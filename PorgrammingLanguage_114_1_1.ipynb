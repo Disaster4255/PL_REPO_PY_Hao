{
  "nbformat": 4,
  "nbformat_minor": 0,
  "metadata": {
    "colab": {
      "provenance": [],
      "authorship_tag": "ABX9TyMI8lmP2NXSiBfSpgTLxDiy",
      "include_colab_link": true
    },
    "kernelspec": {
      "name": "python3",
      "display_name": "Python 3"
    },
    "language_info": {
      "name": "python"
    }
  },
  "cells": [
    {
      "cell_type": "markdown",
      "metadata": {
        "id": "view-in-github",
        "colab_type": "text"
      },
      "source": [
        "<a href=\"https://colab.research.google.com/github/Disaster4255/PL_REPO_PY_Hao/blob/main/PorgrammingLanguage_114_1_1.ipynb\" target=\"_parent\"><img src=\"https://colab.research.google.com/assets/colab-badge.svg\" alt=\"Open In Colab\"/></a>"
      ]
    },
    {
      "cell_type": "code",
      "execution_count": null,
      "metadata": {
        "id": "eH8Vsj0dW-Lt"
      },
      "outputs": [],
      "source": [
        "from google.colab import auth\n",
        "auth.authenticate_user()\n",
        "\n",
        "import gspread\n",
        "from google.auth import defult\n",
        "creds,_=default()\n",
        "\n",
        "gc=gspread.authorize(creds)"
      ]
    },
    {
      "cell_type": "code",
      "source": [
        "import pandas as pd\n",
        "\n",
        "gsheets=gc.open_by_url('https://docs.google.com/spreadsheets/d/1mQqXWlODhZhdpS7LLzA7OqInB5MIe4n4jVGBfby3u08/edit?usp=sharing')"
      ],
      "metadata": {
        "id": "CuqKLebrY6Mw"
      },
      "execution_count": null,
      "outputs": []
    }
  ]
}